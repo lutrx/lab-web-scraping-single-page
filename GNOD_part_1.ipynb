{
 "cells": [
  {
   "cell_type": "code",
   "execution_count": 1,
   "id": "041179cf",
   "metadata": {},
   "outputs": [],
   "source": [
    "from bs4 import BeautifulSoup\n",
    "import requests\n",
    "import pandas as pd"
   ]
  },
  {
   "cell_type": "code",
   "execution_count": 2,
   "id": "c49952ea",
   "metadata": {},
   "outputs": [],
   "source": [
    "#body > div.container > div:nth-child(4) > div.col-xs-12.col-md-8 > div.chart-wrapper > div.feed_item"
   ]
  },
  {
   "cell_type": "code",
   "execution_count": 3,
   "id": "a2a25563",
   "metadata": {},
   "outputs": [],
   "source": [
    "url = \"https://www.popvortex.com/music/charts/top-100-songs.php\""
   ]
  },
  {
   "cell_type": "code",
   "execution_count": 4,
   "id": "0c39bd23",
   "metadata": {},
   "outputs": [
    {
     "data": {
      "text/plain": [
       "200"
      ]
     },
     "execution_count": 4,
     "metadata": {},
     "output_type": "execute_result"
    }
   ],
   "source": [
    "# download html with a get request\n",
    "response = requests.get(url)\n",
    "response.status_code # 200 status code means OK!"
   ]
  },
  {
   "cell_type": "code",
   "execution_count": 5,
   "id": "d4864731",
   "metadata": {},
   "outputs": [],
   "source": [
    "# parse html (create the 'soup')\n",
    "soup = BeautifulSoup(response.content, \"html.parser\")"
   ]
  },
  {
   "cell_type": "code",
   "execution_count": 6,
   "id": "ced6403e",
   "metadata": {},
   "outputs": [],
   "source": [
    "#Check soup\n",
    "#soup"
   ]
  },
  {
   "cell_type": "code",
   "execution_count": 7,
   "id": "5cae9442",
   "metadata": {},
   "outputs": [],
   "source": [
    "#Get all 100 songs with all information\n",
    "#soup.select(\"div.feed-item\")\n"
   ]
  },
  {
   "cell_type": "code",
   "execution_count": 8,
   "id": "c06986f3",
   "metadata": {},
   "outputs": [
    {
     "name": "stdout",
     "output_type": "stream",
     "text": [
      "['Flowers', 'Last Night', 'Fast Car', 'Like Crazy (Deep House Remix)', 'Like Crazy (UK Garage Remix)', 'Calm Down', 'Like Crazy (Instrumental)', 'Heart Like A Truck', 'Justice for All', 'Eyes Closed', 'Like Crazy (English Version)', 'Like Crazy', 'Fighting Myself', 'You Say', 'Anti-Hero', 'Thinkin’ Bout Me', 'Thought You Should Know', 'Players', \"Growin' Up and Gettin' Old\", 'labour', '5 Leaf Clover', 'Love You Anyway', 'Thank God', \"God's Country\", 'TRUSTFALL', 'Here Without You', 'Thank God I Do', 'Rock and a Hard Place', 'wait in the truck', 'Unstoppable', 'Kill Bill', 'Favorite Song', \"I Ain't Worried\", 'More Than Able (feat. Chandler Moore & Tiffany Hudson)', 'End of the World', 'Rescue', 'Eyes Closed (Piano Version)', 'In Jesus Name (God Of Possible)', 'Wasted On You', 'As It Was', 'All Of The Girls You Loved Before', 'This Is Our God', 'NEED A FAVOR', 'Sure Thing', 'Eyes Closed', 'BESO', \"Something in the Orange (Z&E's Version)\", 'You Proof', 'Look At Us Now (Honeycomb)', 'You Raise Me Up', 'Lift Me Up (From Black Panther: Wakanda Forever - Music From and Inspired By)', 'Face-off', 'Gratitude', 'Bonjour', 'Son Of A Sinner', 'Hold My Hand', 'Set Me Free, Pt. 2', 'Lost', 'Tennessee Whiskey', \"Chasin' You\", 'Alone', 'TQG', 'ICU', \"Boy's a liar, Pt. 2\", 'Bright Eyes', 'God Is In This Story', 'Unholy', 'One Thing At A Time', 'Made You Look', 'Escapism.', 'Rainbowland (feat. Dolly Parton)', '10:35', 'Mother', 'God Gave Me You', \"I'm Good (Blue)\", 'She Had Me At Heads Carolina', 'Hold On To Me', 'Dancin’ In The Country', 'Bloody Mary', 'Human', 'Forever and Ever, Amen', 'I Wrote The Book', 'Interlude : Dive', 'golden hour', \"What He Didn't Do\", 'Handle On You', 'Cowgirls (feat. ERNEST)', 'Change the World', 'Everywhere', 'Lavender Haze', 'Shivers', 'Die For You (Remix)', \"Creepin'\", 'Just Pretend', 'Heaven', 'Going, Going, Gone', 'Calm Down', 'Heart Attack (Rock Version)', 'Tennessee Orange', 'Let Me Down Easy']\n",
      "['Miley Cyrus', 'Morgan Wallen', 'Luke Combs', 'Jimin', 'Jimin', 'Rema & Selena Gomez', 'Jimin', 'Lainey Wilson', 'Donald J. Trump & J6 Prison Choir', 'Ed Sheeran', 'Jimin', 'Jimin', 'LINKIN PARK', 'Lauren Daigle', 'Taylor Swift', 'Morgan Wallen', 'Morgan Wallen', 'Coi Leray', 'Luke Combs', 'Paris Paloma', 'Luke Combs', 'Luke Combs', 'Kane Brown & Katelyn Brown', 'Blake Shelton', 'P!nk', '3 Doors Down', 'Lauren Daigle', 'Bailey Zimmerman', 'HARDY & Lainey Wilson', 'Sia', 'SZA', 'Toosii', 'OneRepublic', 'Elevation Worship', 'Tom MacDonald & John Rich', 'Lauren Daigle', 'Ed Sheeran', 'Katy Nichole', 'Morgan Wallen', 'Harry Styles', 'Taylor Swift', 'Phil Wickham', 'Jelly Roll', 'Miguel', 'Ed Sheeran', 'ROSALÍA & Rauw Alejandro', 'Zach Bryan', 'Morgan Wallen', 'Daisy Jones & The Six', 'Josh Groban', 'Rihanna', 'Jimin', 'Brandon Lake', 'Zoey Dollaz', 'Jelly Roll', 'Lady Gaga', 'Jimin', 'LINKIN PARK', 'Chris Stapleton', 'Morgan Wallen', 'Jimin', 'KAROL G & Shakira', 'Coco Jones', 'PinkPantheress & Ice Spice', 'Timcast', 'Katy Nichole & Big Daddy Weave', 'Sam Smith & Kim Petras', 'Morgan Wallen', 'Meghan Trainor', 'RAYE & 070 Shake', 'Miley Cyrus', 'Tiësto & Tate McRae', 'Meghan Trainor', 'Blake Shelton', 'David Guetta & Bebe Rexha', 'Cole Swindell', 'Lauren Daigle', 'Tyler Hubbard', 'Lady Gaga', 'Cody Johnson', 'Randy Travis', 'Morgan Wallen', 'Jimin', 'JVKE', 'Carly Pearce', 'Parker McCollum', 'Morgan Wallen', 'Eric Clapton', 'Fleetwood Mac', 'Taylor Swift', 'Ed Sheeran', 'The Weeknd & Ariana Grande', 'Metro Boomin, The Weeknd & 21 Savage', 'Bad Omens', 'Niall Horan', 'Luke Combs', 'Rema', 'Demi Lovato', 'Megan Moroney', 'Daisy Jones & The Six']\n"
     ]
    }
   ],
   "source": [
    "#initialize empty lists\n",
    "titles = []\n",
    "artists = []\n",
    "\n",
    "\n",
    "# define the number of iterations of our for loop\n",
    "num_iter = len(soup.select(\"div.feed-item\"))\n",
    "\n",
    "titles_list = soup.select(\"cite.title\") #titles\n",
    "artists_list = soup.select(\"em.artist\") # artists\n",
    "# iterate through the result set and retrive all the data\n",
    "for i in range(num_iter):\n",
    "    titles.append(titles_list[i].get_text())\n",
    "    artists.append(artists_list[i].get_text())\n",
    "\n",
    "print(titles)\n",
    "print(artists)\n"
   ]
  },
  {
   "cell_type": "code",
   "execution_count": 9,
   "id": "2e717d87",
   "metadata": {},
   "outputs": [],
   "source": [
    "# each list becomes a column\n",
    "songs = pd.DataFrame({\"title\":titles,\n",
    "                       \"artists\":artists\n",
    "                      })"
   ]
  },
  {
   "cell_type": "code",
   "execution_count": 10,
   "id": "32611626",
   "metadata": {},
   "outputs": [
    {
     "data": {
      "text/html": [
       "<div>\n",
       "<style scoped>\n",
       "    .dataframe tbody tr th:only-of-type {\n",
       "        vertical-align: middle;\n",
       "    }\n",
       "\n",
       "    .dataframe tbody tr th {\n",
       "        vertical-align: top;\n",
       "    }\n",
       "\n",
       "    .dataframe thead th {\n",
       "        text-align: right;\n",
       "    }\n",
       "</style>\n",
       "<table border=\"1\" class=\"dataframe\">\n",
       "  <thead>\n",
       "    <tr style=\"text-align: right;\">\n",
       "      <th></th>\n",
       "      <th>title</th>\n",
       "      <th>artists</th>\n",
       "    </tr>\n",
       "  </thead>\n",
       "  <tbody>\n",
       "    <tr>\n",
       "      <th>0</th>\n",
       "      <td>Flowers</td>\n",
       "      <td>Miley Cyrus</td>\n",
       "    </tr>\n",
       "    <tr>\n",
       "      <th>1</th>\n",
       "      <td>Last Night</td>\n",
       "      <td>Morgan Wallen</td>\n",
       "    </tr>\n",
       "    <tr>\n",
       "      <th>2</th>\n",
       "      <td>Fast Car</td>\n",
       "      <td>Luke Combs</td>\n",
       "    </tr>\n",
       "    <tr>\n",
       "      <th>3</th>\n",
       "      <td>Like Crazy (Deep House Remix)</td>\n",
       "      <td>Jimin</td>\n",
       "    </tr>\n",
       "    <tr>\n",
       "      <th>4</th>\n",
       "      <td>Like Crazy (UK Garage Remix)</td>\n",
       "      <td>Jimin</td>\n",
       "    </tr>\n",
       "    <tr>\n",
       "      <th>...</th>\n",
       "      <td>...</td>\n",
       "      <td>...</td>\n",
       "    </tr>\n",
       "    <tr>\n",
       "      <th>95</th>\n",
       "      <td>Going, Going, Gone</td>\n",
       "      <td>Luke Combs</td>\n",
       "    </tr>\n",
       "    <tr>\n",
       "      <th>96</th>\n",
       "      <td>Calm Down</td>\n",
       "      <td>Rema</td>\n",
       "    </tr>\n",
       "    <tr>\n",
       "      <th>97</th>\n",
       "      <td>Heart Attack (Rock Version)</td>\n",
       "      <td>Demi Lovato</td>\n",
       "    </tr>\n",
       "    <tr>\n",
       "      <th>98</th>\n",
       "      <td>Tennessee Orange</td>\n",
       "      <td>Megan Moroney</td>\n",
       "    </tr>\n",
       "    <tr>\n",
       "      <th>99</th>\n",
       "      <td>Let Me Down Easy</td>\n",
       "      <td>Daisy Jones &amp; The Six</td>\n",
       "    </tr>\n",
       "  </tbody>\n",
       "</table>\n",
       "<p>100 rows × 2 columns</p>\n",
       "</div>"
      ],
      "text/plain": [
       "                            title                artists\n",
       "0                         Flowers            Miley Cyrus\n",
       "1                      Last Night          Morgan Wallen\n",
       "2                        Fast Car             Luke Combs\n",
       "3   Like Crazy (Deep House Remix)                  Jimin\n",
       "4    Like Crazy (UK Garage Remix)                  Jimin\n",
       "..                            ...                    ...\n",
       "95             Going, Going, Gone             Luke Combs\n",
       "96                      Calm Down                   Rema\n",
       "97    Heart Attack (Rock Version)            Demi Lovato\n",
       "98               Tennessee Orange          Megan Moroney\n",
       "99               Let Me Down Easy  Daisy Jones & The Six\n",
       "\n",
       "[100 rows x 2 columns]"
      ]
     },
     "execution_count": 10,
     "metadata": {},
     "output_type": "execute_result"
    }
   ],
   "source": [
    "#show songs dataframe\n",
    "songs"
   ]
  },
  {
   "cell_type": "code",
   "execution_count": 12,
   "id": "a7b67d5c",
   "metadata": {},
   "outputs": [],
   "source": [
    "songs.to_csv('100songs.csv', index=False)"
   ]
  },
  {
   "cell_type": "code",
   "execution_count": null,
   "id": "d5cb3729",
   "metadata": {},
   "outputs": [],
   "source": []
  }
 ],
 "metadata": {
  "kernelspec": {
   "display_name": "Python 3 (ipykernel)",
   "language": "python",
   "name": "python3"
  },
  "language_info": {
   "codemirror_mode": {
    "name": "ipython",
    "version": 3
   },
   "file_extension": ".py",
   "mimetype": "text/x-python",
   "name": "python",
   "nbconvert_exporter": "python",
   "pygments_lexer": "ipython3",
   "version": "3.9.13"
  }
 },
 "nbformat": 4,
 "nbformat_minor": 5
}
