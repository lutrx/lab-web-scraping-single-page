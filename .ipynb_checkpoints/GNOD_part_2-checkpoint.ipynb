{
 "cells": [
  {
   "cell_type": "code",
   "execution_count": 2,
   "id": "ac58622e",
   "metadata": {},
   "outputs": [],
   "source": [
    "import pandas as pd\n",
    "import requests\n",
    "import random"
   ]
  },
  {
   "cell_type": "markdown",
   "id": "90f31eba",
   "metadata": {},
   "source": [
    "#### Import 100songs datafile"
   ]
  },
  {
   "cell_type": "code",
   "execution_count": 3,
   "id": "f0fb7381",
   "metadata": {},
   "outputs": [
    {
     "data": {
      "text/html": [
       "<div>\n",
       "<style scoped>\n",
       "    .dataframe tbody tr th:only-of-type {\n",
       "        vertical-align: middle;\n",
       "    }\n",
       "\n",
       "    .dataframe tbody tr th {\n",
       "        vertical-align: top;\n",
       "    }\n",
       "\n",
       "    .dataframe thead th {\n",
       "        text-align: right;\n",
       "    }\n",
       "</style>\n",
       "<table border=\"1\" class=\"dataframe\">\n",
       "  <thead>\n",
       "    <tr style=\"text-align: right;\">\n",
       "      <th></th>\n",
       "      <th>title</th>\n",
       "      <th>artists</th>\n",
       "    </tr>\n",
       "  </thead>\n",
       "  <tbody>\n",
       "    <tr>\n",
       "      <th>0</th>\n",
       "      <td>Flowers</td>\n",
       "      <td>Miley Cyrus</td>\n",
       "    </tr>\n",
       "    <tr>\n",
       "      <th>1</th>\n",
       "      <td>Last Night</td>\n",
       "      <td>Morgan Wallen</td>\n",
       "    </tr>\n",
       "    <tr>\n",
       "      <th>2</th>\n",
       "      <td>Fast Car</td>\n",
       "      <td>Luke Combs</td>\n",
       "    </tr>\n",
       "    <tr>\n",
       "      <th>3</th>\n",
       "      <td>Like Crazy (Deep House Remix)</td>\n",
       "      <td>Jimin</td>\n",
       "    </tr>\n",
       "    <tr>\n",
       "      <th>4</th>\n",
       "      <td>Like Crazy (UK Garage Remix)</td>\n",
       "      <td>Jimin</td>\n",
       "    </tr>\n",
       "    <tr>\n",
       "      <th>...</th>\n",
       "      <td>...</td>\n",
       "      <td>...</td>\n",
       "    </tr>\n",
       "    <tr>\n",
       "      <th>95</th>\n",
       "      <td>Going, Going, Gone</td>\n",
       "      <td>Luke Combs</td>\n",
       "    </tr>\n",
       "    <tr>\n",
       "      <th>96</th>\n",
       "      <td>Calm Down</td>\n",
       "      <td>Rema</td>\n",
       "    </tr>\n",
       "    <tr>\n",
       "      <th>97</th>\n",
       "      <td>Heart Attack (Rock Version)</td>\n",
       "      <td>Demi Lovato</td>\n",
       "    </tr>\n",
       "    <tr>\n",
       "      <th>98</th>\n",
       "      <td>Tennessee Orange</td>\n",
       "      <td>Megan Moroney</td>\n",
       "    </tr>\n",
       "    <tr>\n",
       "      <th>99</th>\n",
       "      <td>Let Me Down Easy</td>\n",
       "      <td>Daisy Jones &amp; The Six</td>\n",
       "    </tr>\n",
       "  </tbody>\n",
       "</table>\n",
       "<p>100 rows × 2 columns</p>\n",
       "</div>"
      ],
      "text/plain": [
       "                            title                artists\n",
       "0                         Flowers            Miley Cyrus\n",
       "1                      Last Night          Morgan Wallen\n",
       "2                        Fast Car             Luke Combs\n",
       "3   Like Crazy (Deep House Remix)                  Jimin\n",
       "4    Like Crazy (UK Garage Remix)                  Jimin\n",
       "..                            ...                    ...\n",
       "95             Going, Going, Gone             Luke Combs\n",
       "96                      Calm Down                   Rema\n",
       "97    Heart Attack (Rock Version)            Demi Lovato\n",
       "98               Tennessee Orange          Megan Moroney\n",
       "99               Let Me Down Easy  Daisy Jones & The Six\n",
       "\n",
       "[100 rows x 2 columns]"
      ]
     },
     "execution_count": 3,
     "metadata": {},
     "output_type": "execute_result"
    }
   ],
   "source": [
    "songs = pd.read_csv('100songs.csv')\n",
    "songs"
   ]
  },
  {
   "cell_type": "markdown",
   "id": "822f6202",
   "metadata": {},
   "source": [
    "#### Create user input"
   ]
  },
  {
   "cell_type": "code",
   "execution_count": 11,
   "id": "1184fdb3",
   "metadata": {},
   "outputs": [],
   "source": [
    "def SongRecommender():\n",
    "    song_input = input(\"Enter your favorite song: \")\n",
    "    if song_input in songs['title'].unique():\n",
    "        random_song = songs['title'][random.randint(0, len(songs)-1)]\n",
    "        random_artist = songs.loc[songs.title == random_song, 'artists'].values[0]\n",
    "        return 'Look at this new hot song: '+random_song+' from '+random_artist\n",
    "    else:\n",
    "        return 'Sorry, cannot give any recommendation. Try another one'"
   ]
  },
  {
   "cell_type": "code",
   "execution_count": 13,
   "id": "a007d897",
   "metadata": {},
   "outputs": [
    {
     "name": "stdout",
     "output_type": "stream",
     "text": [
      "Enter your favorite song: Calm Down\n"
     ]
    },
    {
     "data": {
      "text/plain": [
       "'Look at this new hot song: Made You Look from Meghan Trainor'"
      ]
     },
     "execution_count": 13,
     "metadata": {},
     "output_type": "execute_result"
    }
   ],
   "source": [
    "SongRecommender()"
   ]
  },
  {
   "cell_type": "code",
   "execution_count": null,
   "id": "659f0792",
   "metadata": {},
   "outputs": [],
   "source": []
  }
 ],
 "metadata": {
  "kernelspec": {
   "display_name": "Python 3 (ipykernel)",
   "language": "python",
   "name": "python3"
  },
  "language_info": {
   "codemirror_mode": {
    "name": "ipython",
    "version": 3
   },
   "file_extension": ".py",
   "mimetype": "text/x-python",
   "name": "python",
   "nbconvert_exporter": "python",
   "pygments_lexer": "ipython3",
   "version": "3.9.13"
  }
 },
 "nbformat": 4,
 "nbformat_minor": 5
}
