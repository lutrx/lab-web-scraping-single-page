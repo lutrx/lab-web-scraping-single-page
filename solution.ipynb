{
 "cells": [
  {
   "cell_type": "code",
   "execution_count": 1,
   "id": "27296959",
   "metadata": {},
   "outputs": [],
   "source": [
    "from bs4 import BeautifulSoup\n",
    "import requests\n",
    "import pandas as pd"
   ]
  },
  {
   "cell_type": "code",
   "execution_count": null,
   "id": "413057c1",
   "metadata": {},
   "outputs": [],
   "source": []
  },
  {
   "cell_type": "code",
   "execution_count": null,
   "id": "310b3f66",
   "metadata": {},
   "outputs": [],
   "source": [
    "#body > div.container > div:nth-child(4) > div.col-xs-12.col-md-8 > div.chart-wrapper > div.feed_item"
   ]
  },
  {
   "cell_type": "code",
   "execution_count": 2,
   "id": "a4bb1936",
   "metadata": {},
   "outputs": [],
   "source": [
    "url = \"https://www.popvortex.com/music/charts/top-100-songs.php\""
   ]
  },
  {
   "cell_type": "code",
   "execution_count": 3,
   "id": "ed05592a",
   "metadata": {},
   "outputs": [
    {
     "data": {
      "text/plain": [
       "200"
      ]
     },
     "execution_count": 3,
     "metadata": {},
     "output_type": "execute_result"
    }
   ],
   "source": [
    "# download html with a get request\n",
    "response = requests.get(url)\n",
    "response.status_code # 200 status code means OK!"
   ]
  },
  {
   "cell_type": "code",
   "execution_count": 4,
   "id": "7ca8fe6f",
   "metadata": {},
   "outputs": [],
   "source": [
    "# parse html (create the 'soup')\n",
    "soup = BeautifulSoup(response.content, \"html.parser\")"
   ]
  },
  {
   "cell_type": "code",
   "execution_count": 9,
   "id": "71752513",
   "metadata": {},
   "outputs": [],
   "source": [
    "#Check soup\n",
    "#soup"
   ]
  },
  {
   "cell_type": "code",
   "execution_count": 26,
   "id": "7bcd2b36",
   "metadata": {},
   "outputs": [],
   "source": [
    "#Get all 100 songs with all information\n",
    "#soup.select(\"div.feed-item\")\n"
   ]
  },
  {
   "cell_type": "code",
   "execution_count": 20,
   "id": "dd7c629b",
   "metadata": {},
   "outputs": [
    {
     "name": "stdout",
     "output_type": "stream",
     "text": [
      "['Like Crazy (Deep House Remix)', 'Flowers', 'Like Crazy (UK Garage Remix)', 'Last Night', 'Fast Car', 'Like Crazy (Instrumental)', 'Like Crazy (English Version)', 'Like Crazy', 'Justice for All', 'Calm Down', 'Heart Like A Truck', 'Eyes Closed', 'Fighting Myself', \"Growin' Up and Gettin' Old\", 'You Say', 'Love You Anyway', 'Thinkin’ Bout Me', 'Thought You Should Know', 'Anti-Hero', '5 Leaf Clover', 'Players', 'labour', 'Thank God', 'This Is Our God', 'End of the World', \"God's Country\", 'More Than Able (feat. Chandler Moore & Tiffany Hudson)', 'Rock and a Hard Place', 'wait in the truck', 'Face-off', 'Thank God I Do', 'All Of The Girls You Loved Before', 'Unstoppable', 'Set Me Free, Pt. 2', 'Alone', 'Rescue', 'Favorite Song', 'BESO', \"I Ain't Worried\", 'Eyes Closed', 'NEED A FAVOR', 'TRUSTFALL', 'You Proof', 'Heart Attack (Rock Version)', 'Kill Bill', 'Interlude : Dive', 'Wasted On You', 'As It Was', \"Chasin' You\", \"Something in the Orange (Z&E's Version)\", 'In Jesus Name (God Of Possible)', 'Made You Look', 'Look At Us Now (Honeycomb)', 'Tennessee Whiskey', 'Lift Me Up (From Black Panther: Wakanda Forever - Music From and Inspired By)', 'Sure Thing', 'Hold My Hand', 'Son Of A Sinner', 'You Raise Me Up', 'Unholy', 'Gratitude', 'Lost', 'One Thing At A Time', 'TQG', \"Boy's a liar, Pt. 2\", 'ICU', \"What He Didn't Do\", 'Mother', 'Ghosts Again', 'golden hour', 'Die For You (Remix)', 'I Would Die for You', 'God Is In This Story', 'Going, Going, Gone', 'Handle On You', 'Dancin’ In The Country', 'Where the Wild Things Are', 'Calm Down', 'Let Me Down Easy', 'Change the World', 'I Wrote The Book', 'Hold On To Me', 'Lavender Haze', '10:35', 'Escapism.', 'God Gave Me You', 'Whiskey Glasses', 'Human', 'Trump Won', 'Bloody Mary', \"Creepin'\", 'Bright Eyes', 'Tennessee Orange', 'Everywhere', \"I'm Good (Blue)\", 'Forever and Ever, Amen', 'Head Above Water', 'Cowgirls (feat. ERNEST)', \"If Anything's Left\", 'Just Pretend']\n",
      "['Jimin', 'Miley Cyrus', 'Jimin', 'Morgan Wallen', 'Luke Combs', 'Jimin', 'Jimin', 'Jimin', 'Donald J. Trump & J6 Prison Choir', 'Rema & Selena Gomez', 'Lainey Wilson', 'Ed Sheeran', 'LINKIN PARK', 'Luke Combs', 'Lauren Daigle', 'Luke Combs', 'Morgan Wallen', 'Morgan Wallen', 'Taylor Swift', 'Luke Combs', 'Coi Leray', 'Paris Paloma', 'Kane Brown & Katelyn Brown', 'Phil Wickham', 'Tom MacDonald & John Rich', 'Blake Shelton', 'Elevation Worship', 'Bailey Zimmerman', 'HARDY & Lainey Wilson', 'Jimin', 'Lauren Daigle', 'Taylor Swift', 'Sia', 'Jimin', 'Jimin', 'Lauren Daigle', 'Toosii', 'ROSALÍA & Rauw Alejandro', 'OneRepublic', 'Ed Sheeran', 'Jelly Roll', 'P!nk', 'Morgan Wallen', 'Demi Lovato', 'SZA', 'Jimin', 'Morgan Wallen', 'Harry Styles', 'Morgan Wallen', 'Zach Bryan', 'Katy Nichole', 'Meghan Trainor', 'Daisy Jones & The Six', 'Chris Stapleton', 'Rihanna', 'Miguel', 'Lady Gaga', 'Jelly Roll', 'Josh Groban', 'Sam Smith & Kim Petras', 'Brandon Lake', 'LINKIN PARK', 'Morgan Wallen', 'KAROL G & Shakira', 'PinkPantheress & Ice Spice', 'Coco Jones', 'Carly Pearce', 'Meghan Trainor', 'Depeche Mode', 'JVKE', 'The Weeknd & Ariana Grande', 'In This Moment', 'Katy Nichole & Big Daddy Weave', 'Luke Combs', 'Parker McCollum', 'Tyler Hubbard', 'Luke Combs', 'Rema', 'Daisy Jones & The Six', 'Eric Clapton', 'Morgan Wallen', 'Lauren Daigle', 'Taylor Swift', 'Tiësto & Tate McRae', 'RAYE & 070 Shake', 'Blake Shelton', 'Morgan Wallen', 'Cody Johnson', 'Natasha Owens', 'Lady Gaga', 'Metro Boomin, The Weeknd & 21 Savage', 'Timcast', 'Megan Moroney', 'Fleetwood Mac', 'David Guetta & Bebe Rexha', 'Randy Travis', 'Avril Lavigne', 'Morgan Wallen', 'Jamie Fine', 'Bad Omens']\n"
     ]
    }
   ],
   "source": [
    "#initialize empty lists\n",
    "titles = []\n",
    "artists = []\n",
    "\n",
    "\n",
    "# define the number of iterations of our for loop\n",
    "num_iter = len(soup.select(\"div.feed-item\"))\n",
    "\n",
    "titles_list = soup.select(\"cite.title\") #titles\n",
    "artists_list = soup.select(\"em.artist\") # artists\n",
    "# iterate through the result set and retrive all the data\n",
    "for i in range(num_iter):\n",
    "    titles.append(titles_list[i].get_text())\n",
    "    artists.append(artists_list[i].get_text())\n",
    "\n",
    "print(titles)\n",
    "print(artists)\n"
   ]
  },
  {
   "cell_type": "code",
   "execution_count": 21,
   "id": "8fe34905",
   "metadata": {},
   "outputs": [],
   "source": [
    "# each list becomes a column\n",
    "songs = pd.DataFrame({\"title\":titles,\n",
    "                       \"artists\":artists\n",
    "                      })"
   ]
  },
  {
   "cell_type": "code",
   "execution_count": 27,
   "id": "dda0ca1a",
   "metadata": {},
   "outputs": [
    {
     "data": {
      "text/html": [
       "<div>\n",
       "<style scoped>\n",
       "    .dataframe tbody tr th:only-of-type {\n",
       "        vertical-align: middle;\n",
       "    }\n",
       "\n",
       "    .dataframe tbody tr th {\n",
       "        vertical-align: top;\n",
       "    }\n",
       "\n",
       "    .dataframe thead th {\n",
       "        text-align: right;\n",
       "    }\n",
       "</style>\n",
       "<table border=\"1\" class=\"dataframe\">\n",
       "  <thead>\n",
       "    <tr style=\"text-align: right;\">\n",
       "      <th></th>\n",
       "      <th>title</th>\n",
       "      <th>artists</th>\n",
       "    </tr>\n",
       "  </thead>\n",
       "  <tbody>\n",
       "    <tr>\n",
       "      <th>0</th>\n",
       "      <td>Like Crazy (Deep House Remix)</td>\n",
       "      <td>Jimin</td>\n",
       "    </tr>\n",
       "    <tr>\n",
       "      <th>1</th>\n",
       "      <td>Flowers</td>\n",
       "      <td>Miley Cyrus</td>\n",
       "    </tr>\n",
       "    <tr>\n",
       "      <th>2</th>\n",
       "      <td>Like Crazy (UK Garage Remix)</td>\n",
       "      <td>Jimin</td>\n",
       "    </tr>\n",
       "    <tr>\n",
       "      <th>3</th>\n",
       "      <td>Last Night</td>\n",
       "      <td>Morgan Wallen</td>\n",
       "    </tr>\n",
       "    <tr>\n",
       "      <th>4</th>\n",
       "      <td>Fast Car</td>\n",
       "      <td>Luke Combs</td>\n",
       "    </tr>\n",
       "    <tr>\n",
       "      <th>...</th>\n",
       "      <td>...</td>\n",
       "      <td>...</td>\n",
       "    </tr>\n",
       "    <tr>\n",
       "      <th>95</th>\n",
       "      <td>Forever and Ever, Amen</td>\n",
       "      <td>Randy Travis</td>\n",
       "    </tr>\n",
       "    <tr>\n",
       "      <th>96</th>\n",
       "      <td>Head Above Water</td>\n",
       "      <td>Avril Lavigne</td>\n",
       "    </tr>\n",
       "    <tr>\n",
       "      <th>97</th>\n",
       "      <td>Cowgirls (feat. ERNEST)</td>\n",
       "      <td>Morgan Wallen</td>\n",
       "    </tr>\n",
       "    <tr>\n",
       "      <th>98</th>\n",
       "      <td>If Anything's Left</td>\n",
       "      <td>Jamie Fine</td>\n",
       "    </tr>\n",
       "    <tr>\n",
       "      <th>99</th>\n",
       "      <td>Just Pretend</td>\n",
       "      <td>Bad Omens</td>\n",
       "    </tr>\n",
       "  </tbody>\n",
       "</table>\n",
       "<p>100 rows × 2 columns</p>\n",
       "</div>"
      ],
      "text/plain": [
       "                            title        artists\n",
       "0   Like Crazy (Deep House Remix)          Jimin\n",
       "1                         Flowers    Miley Cyrus\n",
       "2    Like Crazy (UK Garage Remix)          Jimin\n",
       "3                      Last Night  Morgan Wallen\n",
       "4                        Fast Car     Luke Combs\n",
       "..                            ...            ...\n",
       "95         Forever and Ever, Amen   Randy Travis\n",
       "96               Head Above Water  Avril Lavigne\n",
       "97        Cowgirls (feat. ERNEST)  Morgan Wallen\n",
       "98             If Anything's Left     Jamie Fine\n",
       "99                   Just Pretend      Bad Omens\n",
       "\n",
       "[100 rows x 2 columns]"
      ]
     },
     "execution_count": 27,
     "metadata": {},
     "output_type": "execute_result"
    }
   ],
   "source": [
    "#show songs dataframe\n",
    "songs"
   ]
  },
  {
   "cell_type": "code",
   "execution_count": null,
   "id": "291e37d8",
   "metadata": {},
   "outputs": [],
   "source": []
  }
 ],
 "metadata": {
  "kernelspec": {
   "display_name": "Python 3 (ipykernel)",
   "language": "python",
   "name": "python3"
  },
  "language_info": {
   "codemirror_mode": {
    "name": "ipython",
    "version": 3
   },
   "file_extension": ".py",
   "mimetype": "text/x-python",
   "name": "python",
   "nbconvert_exporter": "python",
   "pygments_lexer": "ipython3",
   "version": "3.9.13"
  }
 },
 "nbformat": 4,
 "nbformat_minor": 5
}
